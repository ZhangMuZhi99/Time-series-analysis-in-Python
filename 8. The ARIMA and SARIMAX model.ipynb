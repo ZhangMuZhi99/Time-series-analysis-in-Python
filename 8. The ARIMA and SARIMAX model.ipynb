{
 "cells": [
  {
   "cell_type": "markdown",
   "metadata": {},
   "source": [
    "## Importing the relevant packages"
   ]
  },
  {
   "cell_type": "code",
   "execution_count": 1,
   "metadata": {},
   "outputs": [],
   "source": [
    "import pandas as pd\n",
    "import numpy as np\n",
    "import matplotlib.pyplot as plt\n",
    "import statsmodels.graphics.tsaplots as sgt\n",
    "import statsmodels.tsa.stattools as sts\n",
    "from statsmodels.tsa.arima.model import ARIMA\n",
    "from scipy.stats.distributions import chi2 \n",
    "from math import sqrt\n",
    "import seaborn as sns\n",
    "sns.set()"
   ]
  },
  {
   "cell_type": "markdown",
   "metadata": {},
   "source": [
    " "
   ]
  },
  {
   "cell_type": "markdown",
   "metadata": {},
   "source": [
    "## Importing the Data and Pre-processing "
   ]
  },
  {
   "cell_type": "code",
   "execution_count": 2,
   "metadata": {},
   "outputs": [],
   "source": [
    "raw_csv_data = pd.read_csv(\"Index2018.csv\") \n",
    "df_comp=raw_csv_data.copy()\n",
    "df_comp.date = pd.to_datetime(df_comp.date, dayfirst = True)\n",
    "df_comp.set_index(\"date\", inplace=True)\n",
    "df_comp=df_comp.asfreq('b')\n",
    "df_comp=df_comp.fillna(method='ffill')"
   ]
  },
  {
   "cell_type": "code",
   "execution_count": 3,
   "metadata": {},
   "outputs": [],
   "source": [
    "df_comp['market_value']=df_comp.ftse"
   ]
  },
  {
   "cell_type": "code",
   "execution_count": 4,
   "metadata": {},
   "outputs": [],
   "source": [
    "import warnings\n",
    "warnings.filterwarnings(\"ignore\")"
   ]
  },
  {
   "cell_type": "code",
   "execution_count": 5,
   "metadata": {},
   "outputs": [],
   "source": [
    "#del df_comp['spx']\n",
    "#del df_comp['dax']\n",
    "#del df_comp['ftse']\n",
    "#del df_comp['nikkei']\n",
    "size = int(len(df_comp)*0.8)\n",
    "df, df_test = df_comp.iloc[:size], df_comp.iloc[size:]"
   ]
  },
  {
   "cell_type": "markdown",
   "metadata": {},
   "source": [
    " "
   ]
  },
  {
   "cell_type": "markdown",
   "metadata": {},
   "source": [
    "## The LLR Test"
   ]
  },
  {
   "cell_type": "code",
   "execution_count": 6,
   "metadata": {},
   "outputs": [],
   "source": [
    "def LLR_test(mod_1, mod_2, DF = 1):\n",
    "    L1 = mod_1.llf\n",
    "    L2 = mod_2.llf\n",
    "    LR = (2*(L2-L1))    \n",
    "    p = chi2.sf(LR, DF).round(3)\n",
    "    return p"
   ]
  },
  {
   "cell_type": "markdown",
   "metadata": {},
   "source": [
    "## Creating Returns"
   ]
  },
  {
   "cell_type": "code",
   "execution_count": 7,
   "metadata": {
    "scrolled": true
   },
   "outputs": [],
   "source": [
    "df['returns'] = df.market_value.pct_change(1)*100"
   ]
  },
  {
   "cell_type": "markdown",
   "metadata": {},
   "source": [
    "## ARIMA(1,1,1)"
   ]
  },
  {
   "cell_type": "code",
   "execution_count": 8,
   "metadata": {},
   "outputs": [
    {
     "data": {
      "text/html": [
       "<table class=\"simpletable\">\n",
       "<caption>SARIMAX Results</caption>\n",
       "<tr>\n",
       "  <th>Dep. Variable:</th>     <td>market_value</td>   <th>  No. Observations:  </th>    <td>5021</td>   \n",
       "</tr>\n",
       "<tr>\n",
       "  <th>Model:</th>            <td>ARIMA(1, 1, 1)</td>  <th>  Log Likelihood     </th> <td>-27604.005</td>\n",
       "</tr>\n",
       "<tr>\n",
       "  <th>Date:</th>            <td>Sun, 29 Jan 2023</td> <th>  AIC                </th>  <td>55214.010</td>\n",
       "</tr>\n",
       "<tr>\n",
       "  <th>Time:</th>                <td>23:43:24</td>     <th>  BIC                </th>  <td>55233.574</td>\n",
       "</tr>\n",
       "<tr>\n",
       "  <th>Sample:</th>             <td>01-07-1994</td>    <th>  HQIC               </th>  <td>55220.865</td>\n",
       "</tr>\n",
       "<tr>\n",
       "  <th></th>                   <td>- 04-05-2013</td>   <th>                     </th>      <td> </td>    \n",
       "</tr>\n",
       "<tr>\n",
       "  <th>Covariance Type:</th>        <td>opg</td>       <th>                     </th>      <td> </td>    \n",
       "</tr>\n",
       "</table>\n",
       "<table class=\"simpletable\">\n",
       "<tr>\n",
       "     <td></td>       <th>coef</th>     <th>std err</th>      <th>z</th>      <th>P>|z|</th>  <th>[0.025</th>    <th>0.975]</th>  \n",
       "</tr>\n",
       "<tr>\n",
       "  <th>ar.L1</th>  <td>    0.7459</td> <td>    0.059</td> <td>   12.656</td> <td> 0.000</td> <td>    0.630</td> <td>    0.861</td>\n",
       "</tr>\n",
       "<tr>\n",
       "  <th>ma.L1</th>  <td>   -0.7919</td> <td>    0.053</td> <td>  -14.927</td> <td> 0.000</td> <td>   -0.896</td> <td>   -0.688</td>\n",
       "</tr>\n",
       "<tr>\n",
       "  <th>sigma2</th> <td> 3498.6538</td> <td>   40.930</td> <td>   85.479</td> <td> 0.000</td> <td> 3418.432</td> <td> 3578.875</td>\n",
       "</tr>\n",
       "</table>\n",
       "<table class=\"simpletable\">\n",
       "<tr>\n",
       "  <th>Ljung-Box (L1) (Q):</th>     <td>2.62</td> <th>  Jarque-Bera (JB):  </th> <td>3326.25</td>\n",
       "</tr>\n",
       "<tr>\n",
       "  <th>Prob(Q):</th>                <td>0.11</td> <th>  Prob(JB):          </th>  <td>0.00</td>  \n",
       "</tr>\n",
       "<tr>\n",
       "  <th>Heteroskedasticity (H):</th> <td>1.90</td> <th>  Skew:              </th>  <td>-0.32</td> \n",
       "</tr>\n",
       "<tr>\n",
       "  <th>Prob(H) (two-sided):</th>    <td>0.00</td> <th>  Kurtosis:          </th>  <td>6.94</td>  \n",
       "</tr>\n",
       "</table><br/><br/>Warnings:<br/>[1] Covariance matrix calculated using the outer product of gradients (complex-step)."
      ],
      "text/plain": [
       "<class 'statsmodels.iolib.summary.Summary'>\n",
       "\"\"\"\n",
       "                               SARIMAX Results                                \n",
       "==============================================================================\n",
       "Dep. Variable:           market_value   No. Observations:                 5021\n",
       "Model:                 ARIMA(1, 1, 1)   Log Likelihood              -27604.005\n",
       "Date:                Sun, 29 Jan 2023   AIC                          55214.010\n",
       "Time:                        23:43:24   BIC                          55233.574\n",
       "Sample:                    01-07-1994   HQIC                         55220.865\n",
       "                         - 04-05-2013                                         \n",
       "Covariance Type:                  opg                                         \n",
       "==============================================================================\n",
       "                 coef    std err          z      P>|z|      [0.025      0.975]\n",
       "------------------------------------------------------------------------------\n",
       "ar.L1          0.7459      0.059     12.656      0.000       0.630       0.861\n",
       "ma.L1         -0.7919      0.053    -14.927      0.000      -0.896      -0.688\n",
       "sigma2      3498.6538     40.930     85.479      0.000    3418.432    3578.875\n",
       "===================================================================================\n",
       "Ljung-Box (L1) (Q):                   2.62   Jarque-Bera (JB):              3326.25\n",
       "Prob(Q):                              0.11   Prob(JB):                         0.00\n",
       "Heteroskedasticity (H):               1.90   Skew:                            -0.32\n",
       "Prob(H) (two-sided):                  0.00   Kurtosis:                         6.94\n",
       "===================================================================================\n",
       "\n",
       "Warnings:\n",
       "[1] Covariance matrix calculated using the outer product of gradients (complex-step).\n",
       "\"\"\""
      ]
     },
     "execution_count": 8,
     "metadata": {},
     "output_type": "execute_result"
    }
   ],
   "source": [
    "model_ar_1_i_1_ma_1 = ARIMA(df.market_value, order=(1,1,1))\n",
    "results_ar_1_i_1_ma_1 = model_ar_1_i_1_ma_1.fit()\n",
    "results_ar_1_i_1_ma_1.summary()"
   ]
  },
  {
   "cell_type": "markdown",
   "metadata": {},
   "source": [
    "## Residuals of the ARIMA(1,1,1)"
   ]
  },
  {
   "cell_type": "code",
   "execution_count": 11,
   "metadata": {},
   "outputs": [
    {
     "data": {
      "image/png": "[encoded data removed]",
      "text/plain": [
       "<Figure size 640x480 with 1 Axes>"
      ]
     },
     "metadata": {},
     "output_type": "display_data"
    }
   ],
   "source": [
    "df['res_ar_1_i_1_ma_1'] = results_ar_1_i_1_ma_1.resid\n",
    "sgt.plot_acf(df.res_ar_1_i_1_ma_1, zero = False, lags = 40)\n",
    "plt.autoscale(tight=True)\n",
    "plt.title(\"ACF Of Residuals for ARIMA(1,1,1)\",size=20)\n",
    "plt.show()"
   ]
  },
  {
   "cell_type": "code",
   "execution_count": 12,
   "metadata": {},
   "outputs": [
    {
     "data": {
      "image/png": "[encoded data removed]",
      "text/plain": [
       "<Figure size 640x480 with 1 Axes>"
      ]
     },
     "metadata": {},
     "output_type": "display_data"
    }
   ],
   "source": [
    "df['res_ar_1_i_1_ma_1'] = results_ar_1_i_1_ma_1.resid.iloc[:]\n",
    "sgt.plot_acf(df.res_ar_1_i_1_ma_1[1:], zero = False, lags = 40)\n",
    "plt.autoscale(tight=True)\n",
    "plt.title(\"ACF Of Residuals for ARIMA(1,1,1)\",size=20)\n",
    "plt.show()"
   ]
  },
  {
   "cell_type": "markdown",
   "metadata": {},
   "source": [
    "## Higher-Lag ARIMA Models"
   ]
  },
  {
   "cell_type": "code",
   "execution_count": 13,
   "metadata": {},
   "outputs": [],
   "source": [
    "model_ar_1_i_1_ma_2 = ARIMA(df.market_value, order=(1,1,2))\n",
    "results_ar_1_i_1_ma_2 = model_ar_1_i_1_ma_2.fit()\n",
    "model_ar_1_i_1_ma_3 = ARIMA(df.market_value, order=(1,1,3))\n",
    "results_ar_1_i_1_ma_3 = model_ar_1_i_1_ma_3.fit()\n",
    "model_ar_2_i_1_ma_1 = ARIMA(df.market_value, order=(2,1,1))\n",
    "results_ar_2_i_1_ma_1 = model_ar_2_i_1_ma_1.fit()\n",
    "model_ar_3_i_1_ma_1 = ARIMA(df.market_value, order=(3,1,1))\n",
    "results_ar_3_i_1_ma_1 = model_ar_3_i_1_ma_1.fit()\n",
    "model_ar_3_i_1_ma_2 = ARIMA(df.market_value, order=(3,1,2))\n",
    "results_ar_3_i_1_ma_2 = model_ar_3_i_1_ma_2.fit()"
   ]
  },
  {
   "cell_type": "code",
   "execution_count": 14,
   "metadata": {},
   "outputs": [
    {
     "name": "stdout",
     "output_type": "stream",
     "text": [
      "ARIMA(1,1,1):  \t LL =  -27604.005079655377 \t AIC =  55214.010159310754\n",
      "ARIMA(1,1,2):  \t LL =  -27600.40763254054 \t AIC =  55208.81526508108\n",
      "ARIMA(1,1,3):  \t LL =  -27590.72348194747 \t AIC =  55191.44696389494\n",
      "ARIMA(2,1,1):  \t LL =  -27600.13055105358 \t AIC =  55208.26110210716\n",
      "ARIMA(3,1,1):  \t LL =  -27592.3361164739 \t AIC =  55194.6722329478\n",
      "ARIMA(3,1,2):  \t LL =  -27590.920318063774 \t AIC =  55193.84063612755\n"
     ]
    }
   ],
   "source": [
    "print(\"ARIMA(1,1,1):  \\t LL = \", results_ar_1_i_1_ma_1.llf, \"\\t AIC = \", results_ar_1_i_1_ma_1.aic)\n",
    "print(\"ARIMA(1,1,2):  \\t LL = \", results_ar_1_i_1_ma_2.llf, \"\\t AIC = \", results_ar_1_i_1_ma_2.aic)\n",
    "print(\"ARIMA(1,1,3):  \\t LL = \", results_ar_1_i_1_ma_3.llf, \"\\t AIC = \", results_ar_1_i_1_ma_3.aic)\n",
    "print(\"ARIMA(2,1,1):  \\t LL = \", results_ar_2_i_1_ma_1.llf, \"\\t AIC = \", results_ar_2_i_1_ma_1.aic)\n",
    "print(\"ARIMA(3,1,1):  \\t LL = \", results_ar_3_i_1_ma_1.llf, \"\\t AIC = \", results_ar_3_i_1_ma_1.aic)\n",
    "print(\"ARIMA(3,1,2):  \\t LL = \", results_ar_3_i_1_ma_2.llf, \"\\t AIC = \", results_ar_3_i_1_ma_2.aic)"
   ]
  },
  {
   "cell_type": "code",
   "execution_count": 15,
   "metadata": {},
   "outputs": [
    {
     "name": "stdout",
     "output_type": "stream",
     "text": [
      "\n",
      "LLR test p-value = 0.0\n"
     ]
    }
   ],
   "source": [
    "print(\"\\nLLR test p-value = \" + str(LLR_test(results_ar_1_i_1_ma_2, results_ar_1_i_1_ma_3)))"
   ]
  },
  {
   "cell_type": "code",
   "execution_count": 16,
   "metadata": {},
   "outputs": [
    {
     "name": "stdout",
     "output_type": "stream",
     "text": [
      "\n",
      "LLR test p-value = 0.0\n"
     ]
    }
   ],
   "source": [
    "print(\"\\nLLR test p-value = \" + str(LLR_test(results_ar_1_i_1_ma_1, results_ar_1_i_1_ma_3, DF = 2)))"
   ]
  },
  {
   "cell_type": "code",
   "execution_count": 17,
   "metadata": {},
   "outputs": [
    {
     "data": {
      "image/png": "[encoded data removed]",
      "text/plain": [
       "<Figure size 640x480 with 1 Axes>"
      ]
     },
     "metadata": {},
     "output_type": "display_data"
    }
   ],
   "source": [
    "df['res_ar_1_i_1_ma_3'] = results_ar_1_i_1_ma_3.resid\n",
    "sgt.plot_acf(df.res_ar_1_i_1_ma_3[1:], zero = False, lags = 40)\n",
    "plt.autoscale(tight=True)\n",
    "plt.title(\"ACF Of Residuals for ARIMA(1,1,3)\", size=20)\n",
    "plt.show()"
   ]
  },
  {
   "cell_type": "code",
   "execution_count": 18,
   "metadata": {},
   "outputs": [],
   "source": [
    "model_ar_5_i_1_ma_1 = ARIMA(df.market_value, order=(5,1,1))\n",
    "results_ar_5_i_1_ma_1 = model_ar_5_i_1_ma_1.fit()\n",
    "model_ar_6_i_1_ma_3 = ARIMA(df.market_value, order=(6,1,3))\n",
    "results_ar_6_i_1_ma_3 = model_ar_6_i_1_ma_3.fit()"
   ]
  },
  {
   "cell_type": "code",
   "execution_count": 19,
   "metadata": {},
   "outputs": [
    {
     "data": {
      "text/html": [
       "<table class=\"simpletable\">\n",
       "<caption>SARIMAX Results</caption>\n",
       "<tr>\n",
       "  <th>Dep. Variable:</th>     <td>market_value</td>   <th>  No. Observations:  </th>    <td>5021</td>   \n",
       "</tr>\n",
       "<tr>\n",
       "  <th>Model:</th>            <td>ARIMA(5, 1, 1)</td>  <th>  Log Likelihood     </th> <td>-27586.845</td>\n",
       "</tr>\n",
       "<tr>\n",
       "  <th>Date:</th>            <td>Sun, 29 Jan 2023</td> <th>  AIC                </th>  <td>55187.689</td>\n",
       "</tr>\n",
       "<tr>\n",
       "  <th>Time:</th>                <td>23:56:11</td>     <th>  BIC                </th>  <td>55233.338</td>\n",
       "</tr>\n",
       "<tr>\n",
       "  <th>Sample:</th>             <td>01-07-1994</td>    <th>  HQIC               </th>  <td>55203.685</td>\n",
       "</tr>\n",
       "<tr>\n",
       "  <th></th>                   <td>- 04-05-2013</td>   <th>                     </th>      <td> </td>    \n",
       "</tr>\n",
       "<tr>\n",
       "  <th>Covariance Type:</th>        <td>opg</td>       <th>                     </th>      <td> </td>    \n",
       "</tr>\n",
       "</table>\n",
       "<table class=\"simpletable\">\n",
       "<tr>\n",
       "     <td></td>       <th>coef</th>     <th>std err</th>      <th>z</th>      <th>P>|z|</th>  <th>[0.025</th>    <th>0.975]</th>  \n",
       "</tr>\n",
       "<tr>\n",
       "  <th>ar.L1</th>  <td>    0.4006</td> <td>    0.153</td> <td>    2.618</td> <td> 0.009</td> <td>    0.101</td> <td>    0.701</td>\n",
       "</tr>\n",
       "<tr>\n",
       "  <th>ar.L2</th>  <td>   -0.0444</td> <td>    0.011</td> <td>   -4.071</td> <td> 0.000</td> <td>   -0.066</td> <td>   -0.023</td>\n",
       "</tr>\n",
       "<tr>\n",
       "  <th>ar.L3</th>  <td>   -0.0542</td> <td>    0.013</td> <td>   -4.226</td> <td> 0.000</td> <td>   -0.079</td> <td>   -0.029</td>\n",
       "</tr>\n",
       "<tr>\n",
       "  <th>ar.L4</th>  <td>    0.0587</td> <td>    0.015</td> <td>    3.914</td> <td> 0.000</td> <td>    0.029</td> <td>    0.088</td>\n",
       "</tr>\n",
       "<tr>\n",
       "  <th>ar.L5</th>  <td>   -0.0580</td> <td>    0.009</td> <td>   -6.337</td> <td> 0.000</td> <td>   -0.076</td> <td>   -0.040</td>\n",
       "</tr>\n",
       "<tr>\n",
       "  <th>ma.L1</th>  <td>   -0.4208</td> <td>    0.153</td> <td>   -2.743</td> <td> 0.006</td> <td>   -0.721</td> <td>   -0.120</td>\n",
       "</tr>\n",
       "<tr>\n",
       "  <th>sigma2</th> <td> 3479.0026</td> <td>   41.909</td> <td>   83.013</td> <td> 0.000</td> <td> 3396.862</td> <td> 3561.143</td>\n",
       "</tr>\n",
       "</table>\n",
       "<table class=\"simpletable\">\n",
       "<tr>\n",
       "  <th>Ljung-Box (L1) (Q):</th>     <td>0.00</td> <th>  Jarque-Bera (JB):  </th> <td>3060.40</td>\n",
       "</tr>\n",
       "<tr>\n",
       "  <th>Prob(Q):</th>                <td>0.95</td> <th>  Prob(JB):          </th>  <td>0.00</td>  \n",
       "</tr>\n",
       "<tr>\n",
       "  <th>Heteroskedasticity (H):</th> <td>1.90</td> <th>  Skew:              </th>  <td>-0.32</td> \n",
       "</tr>\n",
       "<tr>\n",
       "  <th>Prob(H) (two-sided):</th>    <td>0.00</td> <th>  Kurtosis:          </th>  <td>6.77</td>  \n",
       "</tr>\n",
       "</table><br/><br/>Warnings:<br/>[1] Covariance matrix calculated using the outer product of gradients (complex-step)."
      ],
      "text/plain": [
       "<class 'statsmodels.iolib.summary.Summary'>\n",
       "\"\"\"\n",
       "                               SARIMAX Results                                \n",
       "==============================================================================\n",
       "Dep. Variable:           market_value   No. Observations:                 5021\n",
       "Model:                 ARIMA(5, 1, 1)   Log Likelihood              -27586.845\n",
       "Date:                Sun, 29 Jan 2023   AIC                          55187.689\n",
       "Time:                        23:56:11   BIC                          55233.338\n",
       "Sample:                    01-07-1994   HQIC                         55203.685\n",
       "                         - 04-05-2013                                         \n",
       "Covariance Type:                  opg                                         \n",
       "==============================================================================\n",
       "                 coef    std err          z      P>|z|      [0.025      0.975]\n",
       "------------------------------------------------------------------------------\n",
       "ar.L1          0.4006      0.153      2.618      0.009       0.101       0.701\n",
       "ar.L2         -0.0444      0.011     -4.071      0.000      -0.066      -0.023\n",
       "ar.L3         -0.0542      0.013     -4.226      0.000      -0.079      -0.029\n",
       "ar.L4          0.0587      0.015      3.914      0.000       0.029       0.088\n",
       "ar.L5         -0.0580      0.009     -6.337      0.000      -0.076      -0.040\n",
       "ma.L1         -0.4208      0.153     -2.743      0.006      -0.721      -0.120\n",
       "sigma2      3479.0026     41.909     83.013      0.000    3396.862    3561.143\n",
       "===================================================================================\n",
       "Ljung-Box (L1) (Q):                   0.00   Jarque-Bera (JB):              3060.40\n",
       "Prob(Q):                              0.95   Prob(JB):                         0.00\n",
       "Heteroskedasticity (H):               1.90   Skew:                            -0.32\n",
       "Prob(H) (two-sided):                  0.00   Kurtosis:                         6.77\n",
       "===================================================================================\n",
       "\n",
       "Warnings:\n",
       "[1] Covariance matrix calculated using the outer product of gradients (complex-step).\n",
       "\"\"\""
      ]
     },
     "execution_count": 19,
     "metadata": {},
     "output_type": "execute_result"
    }
   ],
   "source": [
    "results_ar_5_i_1_ma_1.summary()"
   ]
  },
  {
   "cell_type": "code",
   "execution_count": 20,
   "metadata": {},
   "outputs": [
    {
     "name": "stdout",
     "output_type": "stream",
     "text": [
      "ARIMA(1,1,3):  \t LL =  -27590.72348194747 \t AIC =  55191.44696389494\n",
      "ARIMA(5,1,1):  \t LL =  -27586.84460958409 \t AIC =  55187.68921916818\n",
      "ARIMA(6,1,3):  \t LL =  -27583.858499811235 \t AIC =  55187.71699962247\n"
     ]
    }
   ],
   "source": [
    "print(\"ARIMA(1,1,3):  \\t LL = \", results_ar_1_i_1_ma_3.llf, \"\\t AIC = \", results_ar_1_i_1_ma_3.aic)\n",
    "print(\"ARIMA(5,1,1):  \\t LL = \", results_ar_5_i_1_ma_1.llf, \"\\t AIC = \", results_ar_5_i_1_ma_1.aic)\n",
    "print(\"ARIMA(6,1,3):  \\t LL = \", results_ar_6_i_1_ma_3.llf, \"\\t AIC = \", results_ar_6_i_1_ma_3.aic)"
   ]
  },
  {
   "cell_type": "code",
   "execution_count": 21,
   "metadata": {},
   "outputs": [
    {
     "name": "stdout",
     "output_type": "stream",
     "text": [
      "\n",
      "LLR test p-value = 0.017\n"
     ]
    }
   ],
   "source": [
    "print(\"\\nLLR test p-value = \" + str(LLR_test(results_ar_1_i_1_ma_3, results_ar_6_i_1_ma_3, DF = 5)))"
   ]
  },
  {
   "cell_type": "code",
   "execution_count": 22,
   "metadata": {},
   "outputs": [
    {
     "name": "stdout",
     "output_type": "stream",
     "text": [
      "\n",
      "LLR test p-value = 0.113\n"
     ]
    }
   ],
   "source": [
    "print(\"\\nLLR test p-value = \" + str(LLR_test(results_ar_5_i_1_ma_1, results_ar_6_i_1_ma_3, DF = 3)))"
   ]
  },
  {
   "cell_type": "code",
   "execution_count": 23,
   "metadata": {},
   "outputs": [
    {
     "data": {
      "image/png": "[encoded data removed]",
      "text/plain": [
       "<Figure size 640x480 with 1 Axes>"
      ]
     },
     "metadata": {},
     "output_type": "display_data"
    }
   ],
   "source": [
    "df['res_ar_5_i_1_ma_1'] = results_ar_5_i_1_ma_1.resid\n",
    "sgt.plot_acf(df.res_ar_5_i_1_ma_1[1:], zero = False, lags = 40)\n",
    "plt.autoscale(tight=True)\n",
    "plt.title(\"ACF Of Residuals for ARIMA(5,1,1)\", size=20)\n",
    "plt.show()"
   ]
  },
  {
   "cell_type": "code",
   "execution_count": 24,
   "metadata": {},
   "outputs": [
    {
     "data": {
      "text/html": [
       "<table class=\"simpletable\">\n",
       "<caption>SARIMAX Results</caption>\n",
       "<tr>\n",
       "  <th>Dep. Variable:</th>     <td>market_value</td>   <th>  No. Observations:  </th>    <td>5021</td>   \n",
       "</tr>\n",
       "<tr>\n",
       "  <th>Model:</th>            <td>ARIMA(5, 1, 1)</td>  <th>  Log Likelihood     </th> <td>-27586.845</td>\n",
       "</tr>\n",
       "<tr>\n",
       "  <th>Date:</th>            <td>Mon, 30 Jan 2023</td> <th>  AIC                </th>  <td>55187.689</td>\n",
       "</tr>\n",
       "<tr>\n",
       "  <th>Time:</th>                <td>00:01:46</td>     <th>  BIC                </th>  <td>55233.338</td>\n",
       "</tr>\n",
       "<tr>\n",
       "  <th>Sample:</th>             <td>01-07-1994</td>    <th>  HQIC               </th>  <td>55203.685</td>\n",
       "</tr>\n",
       "<tr>\n",
       "  <th></th>                   <td>- 04-05-2013</td>   <th>                     </th>      <td> </td>    \n",
       "</tr>\n",
       "<tr>\n",
       "  <th>Covariance Type:</th>        <td>opg</td>       <th>                     </th>      <td> </td>    \n",
       "</tr>\n",
       "</table>\n",
       "<table class=\"simpletable\">\n",
       "<tr>\n",
       "     <td></td>       <th>coef</th>     <th>std err</th>      <th>z</th>      <th>P>|z|</th>  <th>[0.025</th>    <th>0.975]</th>  \n",
       "</tr>\n",
       "<tr>\n",
       "  <th>ar.L1</th>  <td>    0.4006</td> <td>    0.153</td> <td>    2.618</td> <td> 0.009</td> <td>    0.101</td> <td>    0.701</td>\n",
       "</tr>\n",
       "<tr>\n",
       "  <th>ar.L2</th>  <td>   -0.0444</td> <td>    0.011</td> <td>   -4.071</td> <td> 0.000</td> <td>   -0.066</td> <td>   -0.023</td>\n",
       "</tr>\n",
       "<tr>\n",
       "  <th>ar.L3</th>  <td>   -0.0542</td> <td>    0.013</td> <td>   -4.226</td> <td> 0.000</td> <td>   -0.079</td> <td>   -0.029</td>\n",
       "</tr>\n",
       "<tr>\n",
       "  <th>ar.L4</th>  <td>    0.0587</td> <td>    0.015</td> <td>    3.914</td> <td> 0.000</td> <td>    0.029</td> <td>    0.088</td>\n",
       "</tr>\n",
       "<tr>\n",
       "  <th>ar.L5</th>  <td>   -0.0580</td> <td>    0.009</td> <td>   -6.337</td> <td> 0.000</td> <td>   -0.076</td> <td>   -0.040</td>\n",
       "</tr>\n",
       "<tr>\n",
       "  <th>ma.L1</th>  <td>   -0.4208</td> <td>    0.153</td> <td>   -2.743</td> <td> 0.006</td> <td>   -0.721</td> <td>   -0.120</td>\n",
       "</tr>\n",
       "<tr>\n",
       "  <th>sigma2</th> <td> 3479.0026</td> <td>   41.909</td> <td>   83.013</td> <td> 0.000</td> <td> 3396.862</td> <td> 3561.143</td>\n",
       "</tr>\n",
       "</table>\n",
       "<table class=\"simpletable\">\n",
       "<tr>\n",
       "  <th>Ljung-Box (L1) (Q):</th>     <td>0.00</td> <th>  Jarque-Bera (JB):  </th> <td>3060.40</td>\n",
       "</tr>\n",
       "<tr>\n",
       "  <th>Prob(Q):</th>                <td>0.95</td> <th>  Prob(JB):          </th>  <td>0.00</td>  \n",
       "</tr>\n",
       "<tr>\n",
       "  <th>Heteroskedasticity (H):</th> <td>1.90</td> <th>  Skew:              </th>  <td>-0.32</td> \n",
       "</tr>\n",
       "<tr>\n",
       "  <th>Prob(H) (two-sided):</th>    <td>0.00</td> <th>  Kurtosis:          </th>  <td>6.77</td>  \n",
       "</tr>\n",
       "</table><br/><br/>Warnings:<br/>[1] Covariance matrix calculated using the outer product of gradients (complex-step)."
      ],
      "text/plain": [
       "<class 'statsmodels.iolib.summary.Summary'>\n",
       "\"\"\"\n",
       "                               SARIMAX Results                                \n",
       "==============================================================================\n",
       "Dep. Variable:           market_value   No. Observations:                 5021\n",
       "Model:                 ARIMA(5, 1, 1)   Log Likelihood              -27586.845\n",
       "Date:                Mon, 30 Jan 2023   AIC                          55187.689\n",
       "Time:                        00:01:46   BIC                          55233.338\n",
       "Sample:                    01-07-1994   HQIC                         55203.685\n",
       "                         - 04-05-2013                                         \n",
       "Covariance Type:                  opg                                         \n",
       "==============================================================================\n",
       "                 coef    std err          z      P>|z|      [0.025      0.975]\n",
       "------------------------------------------------------------------------------\n",
       "ar.L1          0.4006      0.153      2.618      0.009       0.101       0.701\n",
       "ar.L2         -0.0444      0.011     -4.071      0.000      -0.066      -0.023\n",
       "ar.L3         -0.0542      0.013     -4.226      0.000      -0.079      -0.029\n",
       "ar.L4          0.0587      0.015      3.914      0.000       0.029       0.088\n",
       "ar.L5         -0.0580      0.009     -6.337      0.000      -0.076      -0.040\n",
       "ma.L1         -0.4208      0.153     -2.743      0.006      -0.721      -0.120\n",
       "sigma2      3479.0026     41.909     83.013      0.000    3396.862    3561.143\n",
       "===================================================================================\n",
       "Ljung-Box (L1) (Q):                   0.00   Jarque-Bera (JB):              3060.40\n",
       "Prob(Q):                              0.95   Prob(JB):                         0.00\n",
       "Heteroskedasticity (H):               1.90   Skew:                            -0.32\n",
       "Prob(H) (two-sided):                  0.00   Kurtosis:                         6.77\n",
       "===================================================================================\n",
       "\n",
       "Warnings:\n",
       "[1] Covariance matrix calculated using the outer product of gradients (complex-step).\n",
       "\"\"\""
      ]
     },
     "execution_count": 24,
     "metadata": {},
     "output_type": "execute_result"
    }
   ],
   "source": [
    "results_ar_5_i_1_ma_1.summary()"
   ]
  },
  {
   "cell_type": "markdown",
   "metadata": {},
   "source": [
    "## Models with Higher Levels of Integration"
   ]
  },
  {
   "cell_type": "code",
   "execution_count": 25,
   "metadata": {},
   "outputs": [],
   "source": [
    "df['delta_prices']=df.market_value.diff(1)"
   ]
  },
  {
   "cell_type": "code",
   "execution_count": 26,
   "metadata": {
    "scrolled": true
   },
   "outputs": [
    {
     "data": {
      "text/html": [
       "<table class=\"simpletable\">\n",
       "<caption>SARIMAX Results</caption>\n",
       "<tr>\n",
       "  <th>Dep. Variable:</th>     <td>delta_prices</td>   <th>  No. Observations:  </th>    <td>5020</td>   \n",
       "</tr>\n",
       "<tr>\n",
       "  <th>Model:</th>            <td>ARIMA(1, 0, 1)</td>  <th>  Log Likelihood     </th> <td>-27603.666</td>\n",
       "</tr>\n",
       "<tr>\n",
       "  <th>Date:</th>            <td>Mon, 30 Jan 2023</td> <th>  AIC                </th>  <td>55215.333</td>\n",
       "</tr>\n",
       "<tr>\n",
       "  <th>Time:</th>                <td>00:04:27</td>     <th>  BIC                </th>  <td>55241.418</td>\n",
       "</tr>\n",
       "<tr>\n",
       "  <th>Sample:</th>             <td>01-10-1994</td>    <th>  HQIC               </th>  <td>55224.473</td>\n",
       "</tr>\n",
       "<tr>\n",
       "  <th></th>                   <td>- 04-05-2013</td>   <th>                     </th>      <td> </td>    \n",
       "</tr>\n",
       "<tr>\n",
       "  <th>Covariance Type:</th>        <td>opg</td>       <th>                     </th>      <td> </td>    \n",
       "</tr>\n",
       "</table>\n",
       "<table class=\"simpletable\">\n",
       "<tr>\n",
       "     <td></td>       <th>coef</th>     <th>std err</th>      <th>z</th>      <th>P>|z|</th>  <th>[0.025</th>    <th>0.975]</th>  \n",
       "</tr>\n",
       "<tr>\n",
       "  <th>const</th>  <td>    0.5639</td> <td>    0.753</td> <td>    0.749</td> <td> 0.454</td> <td>   -0.911</td> <td>    2.039</td>\n",
       "</tr>\n",
       "<tr>\n",
       "  <th>ar.L1</th>  <td>    0.7476</td> <td>    0.059</td> <td>   12.673</td> <td> 0.000</td> <td>    0.632</td> <td>    0.863</td>\n",
       "</tr>\n",
       "<tr>\n",
       "  <th>ma.L1</th>  <td>   -0.7937</td> <td>    0.053</td> <td>  -14.871</td> <td> 0.000</td> <td>   -0.898</td> <td>   -0.689</td>\n",
       "</tr>\n",
       "<tr>\n",
       "  <th>sigma2</th> <td> 3496.6352</td> <td>   41.191</td> <td>   84.888</td> <td> 0.000</td> <td> 3415.902</td> <td> 3577.368</td>\n",
       "</tr>\n",
       "</table>\n",
       "<table class=\"simpletable\">\n",
       "<tr>\n",
       "  <th>Ljung-Box (L1) (Q):</th>     <td>2.64</td> <th>  Jarque-Bera (JB):  </th> <td>3327.38</td>\n",
       "</tr>\n",
       "<tr>\n",
       "  <th>Prob(Q):</th>                <td>0.10</td> <th>  Prob(JB):          </th>  <td>0.00</td>  \n",
       "</tr>\n",
       "<tr>\n",
       "  <th>Heteroskedasticity (H):</th> <td>1.90</td> <th>  Skew:              </th>  <td>-0.32</td> \n",
       "</tr>\n",
       "<tr>\n",
       "  <th>Prob(H) (two-sided):</th>    <td>0.00</td> <th>  Kurtosis:          </th>  <td>6.94</td>  \n",
       "</tr>\n",
       "</table><br/><br/>Warnings:<br/>[1] Covariance matrix calculated using the outer product of gradients (complex-step)."
      ],
      "text/plain": [
       "<class 'statsmodels.iolib.summary.Summary'>\n",
       "\"\"\"\n",
       "                               SARIMAX Results                                \n",
       "==============================================================================\n",
       "Dep. Variable:           delta_prices   No. Observations:                 5020\n",
       "Model:                 ARIMA(1, 0, 1)   Log Likelihood              -27603.666\n",
       "Date:                Mon, 30 Jan 2023   AIC                          55215.333\n",
       "Time:                        00:04:27   BIC                          55241.418\n",
       "Sample:                    01-10-1994   HQIC                         55224.473\n",
       "                         - 04-05-2013                                         \n",
       "Covariance Type:                  opg                                         \n",
       "==============================================================================\n",
       "                 coef    std err          z      P>|z|      [0.025      0.975]\n",
       "------------------------------------------------------------------------------\n",
       "const          0.5639      0.753      0.749      0.454      -0.911       2.039\n",
       "ar.L1          0.7476      0.059     12.673      0.000       0.632       0.863\n",
       "ma.L1         -0.7937      0.053    -14.871      0.000      -0.898      -0.689\n",
       "sigma2      3496.6352     41.191     84.888      0.000    3415.902    3577.368\n",
       "===================================================================================\n",
       "Ljung-Box (L1) (Q):                   2.64   Jarque-Bera (JB):              3327.38\n",
       "Prob(Q):                              0.10   Prob(JB):                         0.00\n",
       "Heteroskedasticity (H):               1.90   Skew:                            -0.32\n",
       "Prob(H) (two-sided):                  0.00   Kurtosis:                         6.94\n",
       "===================================================================================\n",
       "\n",
       "Warnings:\n",
       "[1] Covariance matrix calculated using the outer product of gradients (complex-step).\n",
       "\"\"\""
      ]
     },
     "execution_count": 26,
     "metadata": {},
     "output_type": "execute_result"
    }
   ],
   "source": [
    "model_delta_ar_1_i_1_ma_1 = ARIMA(df.delta_prices[1:], order=(1,0,1))\n",
    "results_delta_ar_1_i_1_ma_1 = model_delta_ar_1_i_1_ma_1.fit()\n",
    "results_delta_ar_1_i_1_ma_1.summary()"
   ]
  },
  {
   "cell_type": "code",
   "execution_count": 27,
   "metadata": {},
   "outputs": [
    {
     "data": {
      "text/plain": [
       "(-32.24409349570745,\n",
       " 0.0,\n",
       " 5,\n",
       " 5014,\n",
       " {'1%': -3.4316548765428174,\n",
       "  '5%': -2.8621166146845334,\n",
       "  '10%': -2.5670769326348926},\n",
       " 54845.96104221891)"
      ]
     },
     "execution_count": 27,
     "metadata": {},
     "output_type": "execute_result"
    }
   ],
   "source": [
    "sts.adfuller(df.delta_prices[1:])"
   ]
  },
  {
   "cell_type": "code",
   "execution_count": 28,
   "metadata": {},
   "outputs": [
    {
     "data": {
      "text/html": [
       "<table class=\"simpletable\">\n",
       "<caption>SARIMAX Results</caption>\n",
       "<tr>\n",
       "  <th>Dep. Variable:</th>     <td>market_value</td>   <th>  No. Observations:  </th>    <td>5021</td>   \n",
       "</tr>\n",
       "<tr>\n",
       "  <th>Model:</th>            <td>ARIMA(1, 2, 1)</td>  <th>  Log Likelihood     </th> <td>-27614.176</td>\n",
       "</tr>\n",
       "<tr>\n",
       "  <th>Date:</th>            <td>Mon, 30 Jan 2023</td> <th>  AIC                </th>  <td>55234.352</td>\n",
       "</tr>\n",
       "<tr>\n",
       "  <th>Time:</th>                <td>00:06:10</td>     <th>  BIC                </th>  <td>55253.915</td>\n",
       "</tr>\n",
       "<tr>\n",
       "  <th>Sample:</th>             <td>01-07-1994</td>    <th>  HQIC               </th>  <td>55241.207</td>\n",
       "</tr>\n",
       "<tr>\n",
       "  <th></th>                   <td>- 04-05-2013</td>   <th>                     </th>      <td> </td>    \n",
       "</tr>\n",
       "<tr>\n",
       "  <th>Covariance Type:</th>        <td>opg</td>       <th>                     </th>      <td> </td>    \n",
       "</tr>\n",
       "</table>\n",
       "<table class=\"simpletable\">\n",
       "<tr>\n",
       "     <td></td>       <th>coef</th>     <th>std err</th>      <th>z</th>      <th>P>|z|</th>  <th>[0.025</th>    <th>0.975]</th>  \n",
       "</tr>\n",
       "<tr>\n",
       "  <th>ar.L1</th>  <td>   -0.0178</td> <td>    0.010</td> <td>   -1.806</td> <td> 0.071</td> <td>   -0.037</td> <td>    0.002</td>\n",
       "</tr>\n",
       "<tr>\n",
       "  <th>ma.L1</th>  <td>   -1.0000</td> <td>    0.018</td> <td>  -55.258</td> <td> 0.000</td> <td>   -1.035</td> <td>   -0.965</td>\n",
       "</tr>\n",
       "<tr>\n",
       "  <th>sigma2</th> <td> 3513.4937</td> <td>   73.569</td> <td>   47.758</td> <td> 0.000</td> <td> 3369.301</td> <td> 3657.687</td>\n",
       "</tr>\n",
       "</table>\n",
       "<table class=\"simpletable\">\n",
       "<tr>\n",
       "  <th>Ljung-Box (L1) (Q):</th>     <td>0.01</td> <th>  Jarque-Bera (JB):  </th> <td>3335.05</td>\n",
       "</tr>\n",
       "<tr>\n",
       "  <th>Prob(Q):</th>                <td>0.94</td> <th>  Prob(JB):          </th>  <td>0.00</td>  \n",
       "</tr>\n",
       "<tr>\n",
       "  <th>Heteroskedasticity (H):</th> <td>1.90</td> <th>  Skew:              </th>  <td>-0.22</td> \n",
       "</tr>\n",
       "<tr>\n",
       "  <th>Prob(H) (two-sided):</th>    <td>0.00</td> <th>  Kurtosis:          </th>  <td>6.97</td>  \n",
       "</tr>\n",
       "</table><br/><br/>Warnings:<br/>[1] Covariance matrix calculated using the outer product of gradients (complex-step)."
      ],
      "text/plain": [
       "<class 'statsmodels.iolib.summary.Summary'>\n",
       "\"\"\"\n",
       "                               SARIMAX Results                                \n",
       "==============================================================================\n",
       "Dep. Variable:           market_value   No. Observations:                 5021\n",
       "Model:                 ARIMA(1, 2, 1)   Log Likelihood              -27614.176\n",
       "Date:                Mon, 30 Jan 2023   AIC                          55234.352\n",
       "Time:                        00:06:10   BIC                          55253.915\n",
       "Sample:                    01-07-1994   HQIC                         55241.207\n",
       "                         - 04-05-2013                                         \n",
       "Covariance Type:                  opg                                         \n",
       "==============================================================================\n",
       "                 coef    std err          z      P>|z|      [0.025      0.975]\n",
       "------------------------------------------------------------------------------\n",
       "ar.L1         -0.0178      0.010     -1.806      0.071      -0.037       0.002\n",
       "ma.L1         -1.0000      0.018    -55.258      0.000      -1.035      -0.965\n",
       "sigma2      3513.4937     73.569     47.758      0.000    3369.301    3657.687\n",
       "===================================================================================\n",
       "Ljung-Box (L1) (Q):                   0.01   Jarque-Bera (JB):              3335.05\n",
       "Prob(Q):                              0.94   Prob(JB):                         0.00\n",
       "Heteroskedasticity (H):               1.90   Skew:                            -0.22\n",
       "Prob(H) (two-sided):                  0.00   Kurtosis:                         6.97\n",
       "===================================================================================\n",
       "\n",
       "Warnings:\n",
       "[1] Covariance matrix calculated using the outer product of gradients (complex-step).\n",
       "\"\"\""
      ]
     },
     "execution_count": 28,
     "metadata": {},
     "output_type": "execute_result"
    }
   ],
   "source": [
    "model_ar_1_i_2_ma_1 = ARIMA(df.market_value, order=(1,2,1))\n",
    "results_ar_1_i_2_ma_1 = model_ar_1_i_2_ma_1.fit()\n",
    "results_ar_1_i_2_ma_1.summary()"
   ]
  },
  {
   "cell_type": "code",
   "execution_count": 29,
   "metadata": {},
   "outputs": [
    {
     "data": {
      "image/png": "[encoded data removed]",
      "text/plain": [
       "<Figure size 640x480 with 1 Axes>"
      ]
     },
     "metadata": {},
     "output_type": "display_data"
    }
   ],
   "source": [
    "df['res_ar_1_i_2_ma_1'] = results_ar_1_i_2_ma_1.resid.iloc[:]\n",
    "sgt.plot_acf(df.res_ar_1_i_2_ma_1[2:], zero = False, lags = 40)\n",
    "plt.autoscale(tight=True)\n",
    "plt.title(\"ACF Of Residuals for ARIMA(1,2,1)\",size=20)\n",
    "plt.show()"
   ]
  },
  {
   "cell_type": "markdown",
   "metadata": {},
   "source": [
    "## ARIMAX "
   ]
  },
  {
   "cell_type": "code",
   "execution_count": 30,
   "metadata": {
    "scrolled": true
   },
   "outputs": [
    {
     "data": {
      "text/html": [
       "<table class=\"simpletable\">\n",
       "<caption>SARIMAX Results</caption>\n",
       "<tr>\n",
       "  <th>Dep. Variable:</th>     <td>market_value</td>   <th>  No. Observations:  </th>    <td>5021</td>   \n",
       "</tr>\n",
       "<tr>\n",
       "  <th>Model:</th>            <td>ARIMA(1, 1, 1)</td>  <th>  Log Likelihood     </th> <td>-26693.392</td>\n",
       "</tr>\n",
       "<tr>\n",
       "  <th>Date:</th>            <td>Mon, 30 Jan 2023</td> <th>  AIC                </th>  <td>53394.784</td>\n",
       "</tr>\n",
       "<tr>\n",
       "  <th>Time:</th>                <td>00:12:28</td>     <th>  BIC                </th>  <td>53420.869</td>\n",
       "</tr>\n",
       "<tr>\n",
       "  <th>Sample:</th>             <td>01-07-1994</td>    <th>  HQIC               </th>  <td>53403.925</td>\n",
       "</tr>\n",
       "<tr>\n",
       "  <th></th>                   <td>- 04-05-2013</td>   <th>                     </th>      <td> </td>    \n",
       "</tr>\n",
       "<tr>\n",
       "  <th>Covariance Type:</th>        <td>opg</td>       <th>                     </th>      <td> </td>    \n",
       "</tr>\n",
       "</table>\n",
       "<table class=\"simpletable\">\n",
       "<tr>\n",
       "     <td></td>       <th>coef</th>     <th>std err</th>      <th>z</th>      <th>P>|z|</th>  <th>[0.025</th>    <th>0.975]</th>  \n",
       "</tr>\n",
       "<tr>\n",
       "  <th>spx</th>    <td>    2.6928</td> <td>    0.035</td> <td>   76.407</td> <td> 0.000</td> <td>    2.624</td> <td>    2.762</td>\n",
       "</tr>\n",
       "<tr>\n",
       "  <th>ar.L1</th>  <td>    0.2571</td> <td>    0.029</td> <td>    8.812</td> <td> 0.000</td> <td>    0.200</td> <td>    0.314</td>\n",
       "</tr>\n",
       "<tr>\n",
       "  <th>ma.L1</th>  <td>   -0.5460</td> <td>    0.025</td> <td>  -21.791</td> <td> 0.000</td> <td>   -0.595</td> <td>   -0.497</td>\n",
       "</tr>\n",
       "<tr>\n",
       "  <th>sigma2</th> <td> 2433.0771</td> <td>   27.350</td> <td>   88.961</td> <td> 0.000</td> <td> 2379.472</td> <td> 2486.682</td>\n",
       "</tr>\n",
       "</table>\n",
       "<table class=\"simpletable\">\n",
       "<tr>\n",
       "  <th>Ljung-Box (L1) (Q):</th>     <td>0.24</td> <th>  Jarque-Bera (JB):  </th> <td>4423.90</td>\n",
       "</tr>\n",
       "<tr>\n",
       "  <th>Prob(Q):</th>                <td>0.62</td> <th>  Prob(JB):          </th>  <td>0.00</td>  \n",
       "</tr>\n",
       "<tr>\n",
       "  <th>Heteroskedasticity (H):</th> <td>1.25</td> <th>  Skew:              </th>  <td>-0.57</td> \n",
       "</tr>\n",
       "<tr>\n",
       "  <th>Prob(H) (two-sided):</th>    <td>0.00</td> <th>  Kurtosis:          </th>  <td>7.45</td>  \n",
       "</tr>\n",
       "</table><br/><br/>Warnings:<br/>[1] Covariance matrix calculated using the outer product of gradients (complex-step)."
      ],
      "text/plain": [
       "<class 'statsmodels.iolib.summary.Summary'>\n",
       "\"\"\"\n",
       "                               SARIMAX Results                                \n",
       "==============================================================================\n",
       "Dep. Variable:           market_value   No. Observations:                 5021\n",
       "Model:                 ARIMA(1, 1, 1)   Log Likelihood              -26693.392\n",
       "Date:                Mon, 30 Jan 2023   AIC                          53394.784\n",
       "Time:                        00:12:28   BIC                          53420.869\n",
       "Sample:                    01-07-1994   HQIC                         53403.925\n",
       "                         - 04-05-2013                                         \n",
       "Covariance Type:                  opg                                         \n",
       "==============================================================================\n",
       "                 coef    std err          z      P>|z|      [0.025      0.975]\n",
       "------------------------------------------------------------------------------\n",
       "spx            2.6928      0.035     76.407      0.000       2.624       2.762\n",
       "ar.L1          0.2571      0.029      8.812      0.000       0.200       0.314\n",
       "ma.L1         -0.5460      0.025    -21.791      0.000      -0.595      -0.497\n",
       "sigma2      2433.0771     27.350     88.961      0.000    2379.472    2486.682\n",
       "===================================================================================\n",
       "Ljung-Box (L1) (Q):                   0.24   Jarque-Bera (JB):              4423.90\n",
       "Prob(Q):                              0.62   Prob(JB):                         0.00\n",
       "Heteroskedasticity (H):               1.25   Skew:                            -0.57\n",
       "Prob(H) (two-sided):                  0.00   Kurtosis:                         7.45\n",
       "===================================================================================\n",
       "\n",
       "Warnings:\n",
       "[1] Covariance matrix calculated using the outer product of gradients (complex-step).\n",
       "\"\"\""
      ]
     },
     "execution_count": 30,
     "metadata": {},
     "output_type": "execute_result"
    }
   ],
   "source": [
    "model_ar_1_i_1_ma_1_Xspx = ARIMA(df.market_value, exog = df.spx, order=(1,1,1))\n",
    "results_ar_1_i_1_ma_1_Xspx = model_ar_1_i_1_ma_1_Xspx.fit()\n",
    "results_ar_1_i_1_ma_1_Xspx.summary()"
   ]
  },
  {
   "cell_type": "markdown",
   "metadata": {},
   "source": [
    "## SARIMAX"
   ]
  },
  {
   "cell_type": "code",
   "execution_count": 31,
   "metadata": {},
   "outputs": [],
   "source": [
    "from statsmodels.tsa.statespace.sarimax import SARIMAX"
   ]
  },
  {
   "cell_type": "code",
   "execution_count": 32,
   "metadata": {},
   "outputs": [
    {
     "data": {
      "text/html": [
       "<table class=\"simpletable\">\n",
       "<caption>SARIMAX Results</caption>\n",
       "<tr>\n",
       "  <th>Dep. Variable:</th>           <td>market_value</td>          <th>  No. Observations:  </th>    <td>5021</td>   \n",
       "</tr>\n",
       "<tr>\n",
       "  <th>Model:</th>           <td>SARIMAX(1, 0, 1)x(2, 0, 1, 5)</td> <th>  Log Likelihood     </th> <td>-26712.717</td>\n",
       "</tr>\n",
       "<tr>\n",
       "  <th>Date:</th>                  <td>Mon, 30 Jan 2023</td>        <th>  AIC                </th>  <td>53439.434</td>\n",
       "</tr>\n",
       "<tr>\n",
       "  <th>Time:</th>                      <td>00:16:01</td>            <th>  BIC                </th>  <td>53485.084</td>\n",
       "</tr>\n",
       "<tr>\n",
       "  <th>Sample:</th>                   <td>01-07-1994</td>           <th>  HQIC               </th>  <td>53455.430</td>\n",
       "</tr>\n",
       "<tr>\n",
       "  <th></th>                         <td>- 04-05-2013</td>          <th>                     </th>      <td> </td>    \n",
       "</tr>\n",
       "<tr>\n",
       "  <th>Covariance Type:</th>              <td>opg</td>              <th>                     </th>      <td> </td>    \n",
       "</tr>\n",
       "</table>\n",
       "<table class=\"simpletable\">\n",
       "<tr>\n",
       "      <td></td>        <th>coef</th>     <th>std err</th>      <th>z</th>      <th>P>|z|</th>  <th>[0.025</th>    <th>0.975]</th>  \n",
       "</tr>\n",
       "<tr>\n",
       "  <th>spx</th>      <td>    2.7003</td> <td>    0.035</td> <td>   76.328</td> <td> 0.000</td> <td>    2.631</td> <td>    2.770</td>\n",
       "</tr>\n",
       "<tr>\n",
       "  <th>ar.L1</th>    <td>    0.9998</td> <td>    0.000</td> <td> 2045.685</td> <td> 0.000</td> <td>    0.999</td> <td>    1.001</td>\n",
       "</tr>\n",
       "<tr>\n",
       "  <th>ma.L1</th>    <td>   -0.3111</td> <td>    0.010</td> <td>  -32.739</td> <td> 0.000</td> <td>   -0.330</td> <td>   -0.292</td>\n",
       "</tr>\n",
       "<tr>\n",
       "  <th>ar.S.L5</th>  <td>    0.9655</td> <td>    0.011</td> <td>   88.635</td> <td> 0.000</td> <td>    0.944</td> <td>    0.987</td>\n",
       "</tr>\n",
       "<tr>\n",
       "  <th>ar.S.L10</th> <td>    0.0341</td> <td>    0.010</td> <td>    3.358</td> <td> 0.001</td> <td>    0.014</td> <td>    0.054</td>\n",
       "</tr>\n",
       "<tr>\n",
       "  <th>ma.S.L5</th>  <td>   -0.9986</td> <td>    0.006</td> <td> -180.215</td> <td> 0.000</td> <td>   -1.009</td> <td>   -0.988</td>\n",
       "</tr>\n",
       "<tr>\n",
       "  <th>sigma2</th>   <td> 2442.6774</td> <td>   28.455</td> <td>   85.845</td> <td> 0.000</td> <td> 2386.907</td> <td> 2498.447</td>\n",
       "</tr>\n",
       "</table>\n",
       "<table class=\"simpletable\">\n",
       "<tr>\n",
       "  <th>Ljung-Box (L1) (Q):</th>     <td>1.86</td> <th>  Jarque-Bera (JB):  </th> <td>4207.70</td>\n",
       "</tr>\n",
       "<tr>\n",
       "  <th>Prob(Q):</th>                <td>0.17</td> <th>  Prob(JB):          </th>  <td>0.00</td>  \n",
       "</tr>\n",
       "<tr>\n",
       "  <th>Heteroskedasticity (H):</th> <td>1.24</td> <th>  Skew:              </th>  <td>-0.52</td> \n",
       "</tr>\n",
       "<tr>\n",
       "  <th>Prob(H) (two-sided):</th>    <td>0.00</td> <th>  Kurtosis:          </th>  <td>7.36</td>  \n",
       "</tr>\n",
       "</table><br/><br/>Warnings:<br/>[1] Covariance matrix calculated using the outer product of gradients (complex-step)."
      ],
      "text/plain": [
       "<class 'statsmodels.iolib.summary.Summary'>\n",
       "\"\"\"\n",
       "                                     SARIMAX Results                                     \n",
       "=========================================================================================\n",
       "Dep. Variable:                      market_value   No. Observations:                 5021\n",
       "Model:             SARIMAX(1, 0, 1)x(2, 0, 1, 5)   Log Likelihood              -26712.717\n",
       "Date:                           Mon, 30 Jan 2023   AIC                          53439.434\n",
       "Time:                                   00:16:01   BIC                          53485.084\n",
       "Sample:                               01-07-1994   HQIC                         53455.430\n",
       "                                    - 04-05-2013                                         \n",
       "Covariance Type:                             opg                                         \n",
       "==============================================================================\n",
       "                 coef    std err          z      P>|z|      [0.025      0.975]\n",
       "------------------------------------------------------------------------------\n",
       "spx            2.7003      0.035     76.328      0.000       2.631       2.770\n",
       "ar.L1          0.9998      0.000   2045.685      0.000       0.999       1.001\n",
       "ma.L1         -0.3111      0.010    -32.739      0.000      -0.330      -0.292\n",
       "ar.S.L5        0.9655      0.011     88.635      0.000       0.944       0.987\n",
       "ar.S.L10       0.0341      0.010      3.358      0.001       0.014       0.054\n",
       "ma.S.L5       -0.9986      0.006   -180.215      0.000      -1.009      -0.988\n",
       "sigma2      2442.6774     28.455     85.845      0.000    2386.907    2498.447\n",
       "===================================================================================\n",
       "Ljung-Box (L1) (Q):                   1.86   Jarque-Bera (JB):              4207.70\n",
       "Prob(Q):                              0.17   Prob(JB):                         0.00\n",
       "Heteroskedasticity (H):               1.24   Skew:                            -0.52\n",
       "Prob(H) (two-sided):                  0.00   Kurtosis:                         7.36\n",
       "===================================================================================\n",
       "\n",
       "Warnings:\n",
       "[1] Covariance matrix calculated using the outer product of gradients (complex-step).\n",
       "\"\"\""
      ]
     },
     "execution_count": 32,
     "metadata": {},
     "output_type": "execute_result"
    }
   ],
   "source": [
    "model_sarimax = SARIMAX(df.market_value, exog = df.spx, order=(1,0,1), seasonal_order = (2,0,1,5))\n",
    "results_sarimax = model_sarimax.fit()\n",
    "results_sarimax.summary() # type: ignore"
   ]
  }
 ],
 "metadata": {
  "kernelspec": {
   "display_name": "base",
   "language": "python",
   "name": "python3"
  },
  "language_info": {
   "codemirror_mode": {
    "name": "ipython",
    "version": 3
   },
   "file_extension": ".py",
   "mimetype": "text/x-python",
   "name": "python",
   "nbconvert_exporter": "python",
   "pygments_lexer": "ipython3",
   "version": "3.9.16"
  },
  "vscode": {
   "interpreter": {
    "hash": "ad2bdc8ecc057115af97d19610ffacc2b4e99fae6737bb82f5d7fb13d2f2c186"
   }
  }
 },
 "nbformat": 4,
 "nbformat_minor": 2
}
